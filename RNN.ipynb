{
  "nbformat": 4,
  "nbformat_minor": 0,
  "metadata": {
    "colab": {
      "provenance": []
    },
    "kernelspec": {
      "name": "python3",
      "display_name": "Python 3"
    },
    "language_info": {
      "name": "python"
    }
  },
  "cells": [
    {
      "cell_type": "code",
      "execution_count": 4,
      "metadata": {
        "colab": {
          "base_uri": "https://localhost:8080/"
        },
        "id": "bjmzGQV0zX2q",
        "outputId": "a89d1186-0a2f-4fee-b6f7-83f75ad2e4df"
      },
      "outputs": [
        {
          "output_type": "stream",
          "name": "stdout",
          "text": [
            "\u001b[1m1/1\u001b[0m \u001b[32m━━━━━━━━━━━━━━━━━━━━\u001b[0m\u001b[37m\u001b[0m \u001b[1m0s\u001b[0m 193ms/step\n",
            "\n",
            "Predicted 4th word: university\n"
          ]
        }
      ],
      "source": [
        "# === Step 2: Build and Use RNN Class ===\n",
        "import numpy as np\n",
        "from tensorflow.keras.models import Sequential\n",
        "from tensorflow.keras.layers import Embedding, SimpleRNN, Dense\n",
        "from tensorflow.keras.preprocessing.text import Tokenizer\n",
        "\n",
        "class RNN:\n",
        "    def __init__(self, text, sequence_length=3, embedding_dim=10, rnn_units=8):\n",
        "        self.text = text\n",
        "        self.sequence_length = sequence_length\n",
        "        self.embedding_dim = embedding_dim\n",
        "        self.rnn_units = rnn_units\n",
        "        self.tokenizer = Tokenizer()\n",
        "        self.model = None\n",
        "        self._prepare_data()\n",
        "\n",
        "    def _prepare_data(self):\n",
        "        # Tokenize text\n",
        "        self.tokenizer.fit_on_texts([self.text])\n",
        "        self.word_index = self.tokenizer.word_index\n",
        "        self.vocab_size = len(self.word_index) + 1\n",
        "\n",
        "        # Convert text to sequence of integers\n",
        "        self.sequence = self.tokenizer.texts_to_sequences([self.text])[0]\n",
        "        self.X = np.array([self.sequence[:self.sequence_length]])\n",
        "        self.y = np.array([self.sequence[self.sequence_length]])\n",
        "\n",
        "    def build_model(self):\n",
        "        # Build RNN model\n",
        "        self.model = Sequential()\n",
        "        self.model.add(Embedding(input_dim=self.vocab_size, output_dim=self.embedding_dim, input_length=self.sequence_length))\n",
        "        self.model.add(SimpleRNN(units=self.rnn_units))\n",
        "        self.model.add(Dense(self.vocab_size, activation='softmax'))\n",
        "        self.model.compile(loss='sparse_categorical_crossentropy', optimizer='adam', metrics=['accuracy'])\n",
        "\n",
        "    def train(self, epochs=500, verbose=0):\n",
        "        self.model.fit(self.X, self.y, epochs=epochs, verbose=verbose)\n",
        "\n",
        "    def predict_next_word(self):\n",
        "        prediction = self.model.predict(self.X)\n",
        "        predicted_index = np.argmax(prediction)\n",
        "        return self.tokenizer.index_word.get(predicted_index, \"<UNK>\")\n",
        "\n",
        "# === Step 3: Use the RNN ===\n",
        "text = \"Student of Delta University\"\n",
        "rnn = RNN(text)\n",
        "rnn.build_model()\n",
        "rnn.train(epochs=500)\n",
        "predicted_word = rnn.predict_next_word()\n",
        "print(f\"\\nPredicted 4th word: {predicted_word}\")\n"
      ]
    }
  ]
}